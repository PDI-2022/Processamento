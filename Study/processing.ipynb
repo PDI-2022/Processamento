{
 "cells": [
  {
   "cell_type": "markdown",
   "metadata": {},
   "source": [
    "Importando bibliotecas\n"
   ]
  },
  {
   "cell_type": "code",
   "execution_count": null,
   "metadata": {},
   "outputs": [],
   "source": [
    "import numpy as np\n",
    "import cv2"
   ]
  },
  {
   "cell_type": "markdown",
   "metadata": {},
   "source": [
    "Importando a imagem de teste e analisando os componentes BGR da imagem"
   ]
  },
  {
   "cell_type": "code",
   "execution_count": null,
   "metadata": {},
   "outputs": [],
   "source": [
    "target = 'img.jpeg'\n",
    "input_image = cv2.imread(target) \n",
    "\n",
    "scale_percentual = 20\n",
    "width = int(input_image.shape[1] * scale_percentual/100)\n",
    "height = int(input_image.shape[0] * scale_percentual/100)\n",
    "dimension = (width, height)\n",
    "\n",
    "cv2.imshow('Original Image', cv2.resize(input_image, dimension, interpolation = cv2.INTER_AREA))\n",
    "cv2.waitKey(0)\n",
    "cv2.destroyAllWindows()"
   ]
  },
  {
   "cell_type": "code",
   "execution_count": null,
   "metadata": {},
   "outputs": [],
   "source": [
    "blue_component, green_component, red_component = cv2.split(input_image)\n",
    "\n",
    "cv2.imshow('B', cv2.resize(blue_component, dimension, interpolation = cv2.INTER_AREA))\n",
    "cv2.imshow('G', cv2.resize(green_component, dimension, interpolation = cv2.INTER_AREA))\n",
    "cv2.imshow('R', cv2.resize(red_component, dimension, interpolation = cv2.INTER_AREA))\n",
    "cv2.waitKey(0)\n",
    "cv2.destroyAllWindows()"
   ]
  },
  {
   "cell_type": "markdown",
   "metadata": {},
   "source": [
    "Criando a mascaras para obter as sementes individualmente e para calcular a área das sementes"
   ]
  },
  {
   "cell_type": "code",
   "execution_count": null,
   "metadata": {},
   "outputs": [],
   "source": [
    "# Acentuando cores\n",
    "used_threshold, thresholded_bgr_image = cv2.threshold(input_image, 130, 255, cv2.THRESH_BINARY)\n",
    "thresholded_blue_component, thresholded_green_component, thresholded_red_component = cv2.split(thresholded_bgr_image)\n",
    "\n",
    "cv2.imshow('Original Image', cv2.resize(input_image, dimension, interpolation = cv2.INTER_AREA))\n",
    "cv2.imshow('Thresholded BGR Image', cv2.resize(thresholded_bgr_image, dimension, interpolation = cv2.INTER_AREA))\n",
    "cv2.imshow('R', cv2.resize(thresholded_red_component, dimension, interpolation = cv2.INTER_AREA))\n",
    "cv2.waitKey(0)\n",
    "cv2.destroyAllWindows()\n",
    "\n",
    "cv2.imwrite('processed/thresholded_bgr_image.jpg', thresholded_bgr_image)\n",
    "cv2.imwrite('processed/thresholded_red_component.jpg', thresholded_red_component)"
   ]
  },
  {
   "cell_type": "code",
   "execution_count": null,
   "metadata": {},
   "outputs": [],
   "source": [
    "input_image_area = np.product(input_image.shape[0:2])\n",
    "seed_area = cv2.countNonZero(thresholded_red_component)\n",
    "area_ratio = seed_area/input_image_area * 100\n",
    "print(f'Porcentagem da área ocupada pelas sementes na imagem: {area_ratio:.2f}%')"
   ]
  },
  {
   "cell_type": "code",
   "execution_count": null,
   "metadata": {},
   "outputs": [],
   "source": [
    "result_image = cv2.bitwise_and(input_image, input_image, mask = thresholded_red_component)\n",
    "cv2.imshow('Result Image', cv2.resize(result_image, dimension, interpolation = cv2.INTER_AREA))\n",
    "cv2.waitKey(0)\n",
    "cv2.destroyAllWindows()\n",
    "\n",
    "cv2.imwrite('processed/result_image.jpg', result_image)"
   ]
  }
 ],
 "metadata": {
  "kernelspec": {
   "display_name": "Python 3.10.5 64-bit",
   "language": "python",
   "name": "python3"
  },
  "language_info": {
   "codemirror_mode": {
    "name": "ipython",
    "version": 3
   },
   "file_extension": ".py",
   "mimetype": "text/x-python",
   "name": "python",
   "nbconvert_exporter": "python",
   "pygments_lexer": "ipython3",
   "version": "3.10.5"
  },
  "orig_nbformat": 4,
  "vscode": {
   "interpreter": {
    "hash": "0cd03cf433fe74c5ff79a0df37a23f503833a1ded0c87867d0b2b3c672f79493"
   }
  }
 },
 "nbformat": 4,
 "nbformat_minor": 2
}
