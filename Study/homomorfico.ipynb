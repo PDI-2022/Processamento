{
 "cells": [
  {
   "cell_type": "code",
   "execution_count": 1,
   "id": "88907757",
   "metadata": {},
   "outputs": [],
   "source": [
    "import cv2 as cv\n",
    "import matplotlib.pyplot as plt\n",
    "import numpy as np\n",
    "from PIL import Image"
   ]
  },
  {
   "cell_type": "code",
   "execution_count": null,
   "id": "a07835ff",
   "metadata": {},
   "outputs": [],
   "source": [
    "original = cv.imread('./embriaoteste3.png')\n",
    "cinza = cv.cvtColor(original, cv.COLOR_BGR2GRAY)\n",
    "cinza_h = cinza.shape[0]\n",
    "cinza_w = cinza.shape[1]"
   ]
  },
  {
   "cell_type": "code",
   "execution_count": null,
   "id": "bca3f230",
   "metadata": {},
   "outputs": [],
   "source": [
    "def gaussModif(gama_L, gama_H, c, D_0, imagem):\n",
    "   # Variáveis de interesse\n",
    "     im_h = imagem.shape[0]\n",
    "     im_w = imagem.shape[1]\n",
    "   # Coordenadas do centro\n",
    "     u_c = im_h/2\n",
    "     v_c = im_w/2\n",
    "     H = np.zeros(imagem.shape, dtype=’float’)\n",
    "   # Matriz de coordenadas\n",
    "     u, v = np.meshgrid(range(im_h), range(im_w), indexing=’ij’)\n",
    "   # Etapas de cálculo do filtro gaussiano modificado\n",
    "     D_uv_2 = (((u-u_c)**2 + (v-v_c)**2)**2).astype(‘float’)\n",
    "     div_D0 = D_uv_2/(D_0**2)\n",
    "     c_div_D0 = (-1)* c * div_D0\n",
    "     exp_div_D0 = np.exp(c_div_D0)\n",
    "     um_menos_exp = 1 — exp_div_D0\n",
    "     mult_delta_gama = (gama_H — gama_L) * um_menos_exp\n",
    "     H = gama_L + mult_delta_gama\n",
    "     return H\n",
    "# Função para adicionar pixels na imagem de forma a otimizar o cálculo da DFT/FFT\n",
    "def zeroPadding(imagem):\n",
    "     cinza_h2 = cv.getOptimalDFTSize(imagem.shape[0])\n",
    "     cinza_w2 = cv.getOptimalDFTSize(imagem.shape[1])\n",
    "     imagem_padded = np.zeros((cinza_h2, cinza_w2), dtype=’uint8')\n",
    "     imagem_padded[0:cinza_h, 0:cinza_w] = imagem\n",
    "     return imagem_padded\n",
    "# Restaura a imagem ao tamanho original\n",
    "def unpaddingImage(imagem_padded, imagem):\n",
    "     temp = np.zeros(imagem.shape, dtype=’uint8')\n",
    "     temp[0:imagem.shape[0], 0:imagem.shape[1]] =   imagem_padded[0:imagem.shape[0], 0:imagem.shape[1]]\n",
    "     return temp\n",
    " \n",
    "# Plota FFT da imagem\n",
    "def plotaFFT(imagem):\n",
    "     I_fft = np.fft.fft2(imagem)\n",
    "     I_shift = np.fft.fftshift(I_fft)\n",
    "     I_mag = np.abs(I_shift)\n",
    "     I_log = np.log(1+ I_mag)\n",
    "     I_int = np.uint8(I_log)\n",
    "     I_norm = cv.normalize(I_int, None, 0, 255, norm_type=cv.NORM_MINMAX)\n",
    "     cv.imshow(“TF”, I_norm)\n",
    "# Aplica o filtro homomórfico\n",
    "def aplicaFiltro(func_transf, imagem):\n",
    "# Redistribui os pixels do filtro(descentralização) pois a função\n",
    "# gaussModif() retorna os valores das baixas frequência no centro da\n",
    "# imagem plotada\n",
    "     h = np.fft.fftshift(func_transf)\n",
    "# Imagem no domínio logarítmico: soma-se 1 à imagem para evitar a indefinição do logaritmo\n",
    "     I_log = np.log(1 + imagem)\n",
    "# FFT\n",
    "     I_fft = np.fft.fft2(I_log)\n",
    "# Filtragem\n",
    "     I_filt = h * I_fft\n",
    "# IFFT\n",
    "     I_inv_TF = np.fft.ifft2(I_filt)\n",
    "# Exponencial: subtração do pixel adicionado na etapa do logaritmo\n",
    "     I_exp = np.exp(np.real(I_inv_TF)) — 1\n",
    "# Converte para uint8\n",
    "     I_int = np.uint8(I_exp)\n",
    "     return I_int"
   ]
  }
 ],
 "metadata": {
  "kernelspec": {
   "display_name": "Python 3 (ipykernel)",
   "language": "python",
   "name": "python3"
  },
  "language_info": {
   "codemirror_mode": {
    "name": "ipython",
    "version": 3
   },
   "file_extension": ".py",
   "mimetype": "text/x-python",
   "name": "python",
   "nbconvert_exporter": "python",
   "pygments_lexer": "ipython3",
   "version": "3.9.12"
  }
 },
 "nbformat": 4,
 "nbformat_minor": 5
}
