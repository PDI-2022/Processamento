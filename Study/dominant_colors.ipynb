{
 "cells": [
  {
   "cell_type": "markdown",
   "metadata": {},
   "source": [
    "Importando bibliotecas\n"
   ]
  },
  {
   "cell_type": "code",
   "execution_count": null,
   "metadata": {},
   "outputs": [],
   "source": [
    "import numpy as np\n",
    "import cv2"
   ]
  },
  {
   "cell_type": "markdown",
   "metadata": {},
   "source": [
    "Importando a imagem de teste"
   ]
  },
  {
   "cell_type": "code",
   "execution_count": null,
   "metadata": {},
   "outputs": [],
   "source": [
    "target = 'img.jpeg'\n",
    "input_image = cv2.imread(target) \n",
    "\n",
    "scale_percentual = 20\n",
    "width = int(input_image.shape[1] * scale_percentual/100)\n",
    "height = int(input_image.shape[0] * scale_percentual/100)\n",
    "dimension = (width, height)\n",
    "\n",
    "cv2.imshow('Original Image', cv2.resize(input_image, dimension, interpolation = cv2.INTER_AREA))\n",
    "cv2.waitKey(0)\n",
    "cv2.destroyAllWindows()\n",
    "\n",
    "cv2.imwrite('processed/input_image.jpg', input_image)"
   ]
  },
  {
   "cell_type": "markdown",
   "metadata": {},
   "source": [
    "Verificando as cores dominantes na imagem inicial"
   ]
  },
  {
   "cell_type": "code",
   "execution_count": null,
   "metadata": {},
   "outputs": [],
   "source": [
    "def create_bar(height, width, color):\n",
    "    bar = np.zeros((height, width, 3), np.uint8)\n",
    "    bar[:] = color\n",
    "    red, green, blue = int(color[2]), int(color[1]), int(color[0])\n",
    "    return bar, (red, green, blue)"
   ]
  },
  {
   "cell_type": "code",
   "execution_count": null,
   "metadata": {},
   "outputs": [],
   "source": [
    "input_image_height, input_image_width, _ = np.shape(input_image)\n",
    "input_image_data = np.reshape(input_image, (input_image_height * input_image_width, 3))\n",
    "input_image_data = np.float32(input_image_data)"
   ]
  },
  {
   "cell_type": "markdown",
   "metadata": {},
   "source": [
    "Clusterização das cores dominantes\n",
    "\n",
    "https://docs.opencv.org/3.4/d1/d5c/tutorial_py_kmeans_opencv.html"
   ]
  },
  {
   "cell_type": "code",
   "execution_count": null,
   "metadata": {},
   "outputs": [],
   "source": [
    "clusters = 5\n",
    "\n",
    "criteria = (cv2.TERM_CRITERIA_EPS + cv2.TERM_CRITERIA_MAX_ITER, 10, 1.0)\n",
    "flags = cv2.KMEANS_RANDOM_CENTERS\n",
    "input_image_compactness, input_image_labels, input_image_centers = cv2.kmeans(input_image_data, clusters, None, criteria, 10, flags)\n",
    "print(input_image_centers)"
   ]
  },
  {
   "cell_type": "code",
   "execution_count": null,
   "metadata": {},
   "outputs": [],
   "source": [
    "font = cv2.FONT_HERSHEY_SIMPLEX\n",
    "bars = []\n",
    "rgb_values = []\n",
    "\n",
    "for index, color in enumerate(input_image_centers):\n",
    "    bar, rgb = create_bar(200, 200, color)\n",
    "    bars.append(bar)\n",
    "    rgb_values.append(rgb)\n",
    "\n",
    "input_image_bar = np.hstack(bars)\n",
    "\n",
    "for index, color in enumerate(rgb_values):\n",
    "    image = cv2.putText(input_image_bar, f'{index + 1}. RGB: {color}', (5 + 200 * index, 200 - 10), font, 0.5, (255, 0, 0), 1, cv2.LINE_AA)\n",
    "\n",
    "\n",
    "cv2.imshow('Original Image', cv2.resize(input_image, dimension, interpolation = cv2.INTER_AREA))\n",
    "cv2.imshow('Dominant Colors', input_image_bar)\n",
    "cv2.waitKey(0)\n",
    "cv2.destroyAllWindows()\n",
    "\n",
    "cv2.imwrite('processed/input_image_dominant_colors.jpg', input_image_bar)"
   ]
  },
  {
   "cell_type": "markdown",
   "metadata": {},
   "source": [
    "Criando a mascaras para obter as sementes individualmente e para calcular a área das sementes"
   ]
  },
  {
   "cell_type": "code",
   "execution_count": null,
   "metadata": {},
   "outputs": [],
   "source": [
    "# Acentuando cores\n",
    "used_threshold, thresholded_bgr_image = cv2.threshold(input_image, 130, 255, cv2.THRESH_BINARY)\n",
    "thresholded_blue_component, thresholded_green_component, thresholded_red_component = cv2.split(thresholded_bgr_image)\n",
    "\n",
    "# cv2.imshow('Original Image', cv2.resize(input_image, dimension, interpolation = cv2.INTER_AREA))\n",
    "# cv2.imshow('Thresholded BGR Image', cv2.resize(thresholded_bgr_image, dimension, interpolation = cv2.INTER_AREA))\n",
    "# cv2.imshow('R', cv2.resize(thresholded_red_component, dimension, interpolation = cv2.INTER_AREA))\n",
    "# cv2.waitKey(0)\n",
    "# cv2.destroyAllWindows()\n",
    "\n",
    "# cv2.imwrite('processed/thresholded_bgr_image.jpg', thresholded_bgr_image)\n",
    "# cv2.imwrite('processed/thresholded_red_component.jpg', thresholded_red_component)"
   ]
  },
  {
   "cell_type": "code",
   "execution_count": null,
   "metadata": {},
   "outputs": [],
   "source": [
    "result_image = cv2.bitwise_and(input_image, input_image, mask = thresholded_red_component)\n",
    "# cv2.imshow('Result Image', cv2.resize(result_image, dimension, interpolation = cv2.INTER_AREA))\n",
    "# cv2.waitKey(0)\n",
    "# cv2.destroyAllWindows()\n",
    "\n",
    "cv2.imwrite('processed/result_image.jpg', result_image)"
   ]
  },
  {
   "cell_type": "code",
   "execution_count": null,
   "metadata": {},
   "outputs": [],
   "source": [
    "result_image_height, result_image_width, _ = np.shape(result_image)\n",
    "result_image_data = np.reshape(result_image, (result_image_height * result_image_width, 3))\n",
    "result_image_data = np.float32(result_image_data)"
   ]
  },
  {
   "cell_type": "code",
   "execution_count": null,
   "metadata": {},
   "outputs": [],
   "source": [
    "clusters = 5\n",
    "\n",
    "criteria = (cv2.TERM_CRITERIA_EPS + cv2.TERM_CRITERIA_MAX_ITER, 10, 1.0)\n",
    "flags = cv2.KMEANS_RANDOM_CENTERS\n",
    "result_image_compactness, result_image_labels, result_image_centers = cv2.kmeans(result_image_data, clusters, None, criteria, 10, flags)\n",
    "print(result_image_centers)"
   ]
  },
  {
   "cell_type": "code",
   "execution_count": null,
   "metadata": {},
   "outputs": [],
   "source": [
    "font = cv2.FONT_HERSHEY_SIMPLEX\n",
    "bars = []\n",
    "rgb_values = []\n",
    "\n",
    "for index, color in enumerate(result_image_centers):\n",
    "    bar, rgb = create_bar(200, 200, color)\n",
    "    bars.append(bar)\n",
    "    rgb_values.append(rgb)\n",
    "\n",
    "result_image_bar = np.hstack(bars)\n",
    "\n",
    "for index, color in enumerate(rgb_values):\n",
    "    image = cv2.putText(result_image_bar, f'{index + 1}. RGB: {color}', (5 + 200 * index, 200 - 10),\n",
    "    font, 0.5, (255, 0, 0), 1, cv2.LINE_AA)\n",
    "\n",
    "cv2.imshow('Result Image', cv2.resize(result_image, dimension, interpolation = cv2.INTER_AREA))\n",
    "cv2.imshow('Dominant Colors', result_image_bar)\n",
    "cv2.waitKey(0)\n",
    "cv2.destroyAllWindows()\n",
    "\n",
    "cv2.imwrite('processed/result_image_dominant_colors.jpg', result_image_bar)"
   ]
  }
 ],
 "metadata": {
  "kernelspec": {
   "display_name": "Python 3.10.5 64-bit",
   "language": "python",
   "name": "python3"
  },
  "language_info": {
   "codemirror_mode": {
    "name": "ipython",
    "version": 3
   },
   "file_extension": ".py",
   "mimetype": "text/x-python",
   "name": "python",
   "nbconvert_exporter": "python",
   "pygments_lexer": "ipython3",
   "version": "3.10.5"
  },
  "orig_nbformat": 4,
  "vscode": {
   "interpreter": {
    "hash": "0cd03cf433fe74c5ff79a0df37a23f503833a1ded0c87867d0b2b3c672f79493"
   }
  }
 },
 "nbformat": 4,
 "nbformat_minor": 2
}
