{
 "cells": [
  {
   "cell_type": "markdown",
   "metadata": {},
   "source": [
    "Importando bibliotecas\n"
   ]
  },
  {
   "cell_type": "code",
   "execution_count": null,
   "metadata": {},
   "outputs": [],
   "source": [
    "import numpy as np\n",
    "import matplotlib.pyplot as plt\n",
    "import cv2"
   ]
  },
  {
   "cell_type": "markdown",
   "metadata": {},
   "source": [
    "Importando a imagem de teste e analisando os componentes BGR da imagem"
   ]
  },
  {
   "cell_type": "code",
   "execution_count": null,
   "metadata": {},
   "outputs": [],
   "source": [
    "target = 'imgi.jpeg'\n",
    "input_image = cv2.imread(target) \n",
    "\n",
    "scale_percentual = 20\n",
    "width = int(input_image.shape[1] * scale_percentual/100)\n",
    "height = int(input_image.shape[0] * scale_percentual/100)\n",
    "dimension = (width, height)\n",
    "\n",
    "cv2.imshow('Original Image', cv2.resize(input_image, dimension, interpolation = cv2.INTER_AREA))\n",
    "cv2.waitKey(0)\n",
    "cv2.destroyAllWindows()"
   ]
  },
  {
   "cell_type": "code",
   "execution_count": null,
   "metadata": {},
   "outputs": [],
   "source": [
    "two_dimensional_image = input_image.reshape((-1, 3))\n",
    "two_dimensional_image = np.float32(two_dimensional_image)"
   ]
  },
  {
   "cell_type": "code",
   "execution_count": null,
   "metadata": {},
   "outputs": [],
   "source": [
    "criteria = (cv2.TERM_CRITERIA_EPS + cv2.TERM_CRITERIA_MAX_ITER, 10, 1.0)\n",
    "clusters = 3\n",
    "flags = cv2.KMEANS_PP_CENTERS\n",
    "\n",
    "result_image_compactness, result_image_labels, result_image_centers = cv2.kmeans(two_dimensional_image, clusters, None, criteria, 10, flags)\n",
    "\n",
    "result_image_centers = np.uint8(result_image_centers)\n",
    "result_image = result_image_centers[result_image_labels.flatten()]\n",
    "result_image = result_image.reshape((input_image.shape))\n",
    "\n",
    "thresholded_blue_component, thresholded_green_component, thresholded_red_component = cv2.split(result_image)\n",
    "\n",
    "used_threshold, thresholded_bgr_image = cv2.threshold(result_image, 130, 255, cv2.THRESH_BINARY)\n",
    "thresholded_blue_component, thresholded_green_component, thresholded_red_component = cv2.split(thresholded_bgr_image)\n",
    "\n",
    "cv2.imshow('Result Image', cv2.resize(result_image, dimension, interpolation = cv2.INTER_AREA))\n",
    "cv2.imshow('Result thresholded_bgr_image', cv2.resize(thresholded_bgr_image, dimension, interpolation = cv2.INTER_AREA))\n",
    "cv2.imshow('Result thresholded_green_component', cv2.resize(thresholded_green_component, dimension, interpolation = cv2.INTER_AREA))\n",
    "cv2.imshow('Result thresholded_red_component', cv2.resize(thresholded_red_component, dimension, interpolation = cv2.INTER_AREA))\n",
    "\n",
    "mask_knn = thresholded_red_component\n",
    "mask_knn_filtered = cv2.medianBlur(mask_knn, 5)\n",
    "\n",
    "cv2.imwrite('processed/mask_knn.jpg', mask_knn)\n",
    "cv2.imwrite('processed/mask_knn_filtered.jpg', mask_knn_filtered)\n",
    "cv2.waitKey(0)\n",
    "cv2.destroyAllWindows()\n",
    "\n",
    "result_image = cv2.bitwise_and(input_image, input_image, mask = mask_knn_filtered)\n",
    "cv2.imshow('Result Image', cv2.resize(result_image, dimension, interpolation = cv2.INTER_AREA))\n",
    "cv2.waitKey(0)\n",
    "cv2.destroyAllWindows()\n",
    "\n",
    "cv2.imwrite('processed/result_image.jpg', result_image)"
   ]
  }
 ],
 "metadata": {
  "kernelspec": {
   "display_name": "Python 3.10.5 64-bit",
   "language": "python",
   "name": "python3"
  },
  "language_info": {
   "codemirror_mode": {
    "name": "ipython",
    "version": 3
   },
   "file_extension": ".py",
   "mimetype": "text/x-python",
   "name": "python",
   "nbconvert_exporter": "python",
   "pygments_lexer": "ipython3",
   "version": "3.10.5"
  },
  "orig_nbformat": 4,
  "vscode": {
   "interpreter": {
    "hash": "0cd03cf433fe74c5ff79a0df37a23f503833a1ded0c87867d0b2b3c672f79493"
   }
  }
 },
 "nbformat": 4,
 "nbformat_minor": 2
}
